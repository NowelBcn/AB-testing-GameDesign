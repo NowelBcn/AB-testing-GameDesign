{
 "cells": [
  {
   "cell_type": "markdown",
   "metadata": {
    "dc": {
     "key": "3"
    },
    "deletable": false,
    "editable": false,
    "run_control": {
     "frozen": true
    },
    "tags": [
     "context"
    ]
   },
   "source": [
    "## 1. Of cats and cookies\n",
    "<p><a href=\"https://www.facebook.com/cookiecatsgame\">Cookie Cats</a> is a hugely popular mobile puzzle game developed by <a href=\"http://tactile.dk\">Tactile Entertainment</a>. It's a classic \"connect three\"-style puzzle game where the player must connect tiles of the same color to clear the board and win the level. It also features singing cats. We're not kidding! Check out this short demo:</p>\n",
    ![](./cc_gates.png)
    "<p>As players progress through the levels of the game, they will occasionally encounter gates that force them to wait a non-trivial amount of time or make an in-app purchase to progress. In addition to driving in-app purchases, these gates serve the important purpose of giving players an enforced break from playing the game, hopefully resulting in that the player's enjoyment of the game being increased and prolonged.</p>\n",
    "<p><img src=\"https://s3.amazonaws.com/assets.datacamp.com/production/project_184/img/cc_gates.png\" alt=\"\"></p>\n",
    "<p>But where should the gates be placed? Initially the first gate was placed at level 30, but in this notebook we're going to analyze an AB-test where we moved the first gate in Cookie Cats from level 30 to level 40. In particular, we will look at the impact on player retention. But before we get to that, a key step before undertaking any analysis is understanding the data. So let's load it in and take a look!</p>"
   ]
  },
  {
   "cell_type": "code",
   "execution_count": 26,
   "metadata": {
    "dc": {
     "key": "3"
    },
    "tags": [
     "sample_code"
    ]
   },
   "outputs": [
    {
     "name": "stdout",
     "output_type": "stream",
     "text": [
      "   userid  version  sum_gamerounds  retention_1  retention_7\n",
      "0     116  gate_30               3        False        False\n",
      "1     337  gate_30              38         True        False\n",
      "2     377  gate_40             165         True        False\n",
      "3     483  gate_40               1        False        False\n",
      "4     488  gate_40             179         True         True\n"
     ]
    }
   ],
   "source": [
    "# Importing pandas\n",
    "import pandas as pd\n",
    "\n",
    "# Reading in the data\n",
    "df = pd.read_csv('datasets/cookie_cats.csv')\n",
    "\n",
    "# Showing the first few rows\n",
    "print(df.head())"
   ]
  },
  {
   "cell_type": "markdown",
   "metadata": {
    "dc": {
     "key": "10"
    },
    "deletable": false,
    "editable": false,
    "run_control": {
     "frozen": true
    },
    "tags": [
     "context"
    ]
   },
   "source": [
    "## 2. The AB-test data\n",
    "<p>The data we have is from 90,189 players that installed the game while the AB-test was running. The variables are:</p>\n",
    "<ul>\n",
    "<li><code>userid</code> - a unique number that identifies each player.</li>\n",
    "<li><code>version</code> - whether the player was put in the control group (<code>gate_30</code> - a gate at level 30) or the group with the moved gate (<code>gate_40</code> - a gate at level 40).</li>\n",
    "<li><code>sum_gamerounds</code> - the number of game rounds played by the player during the first 14 days after install.</li>\n",
    "<li><code>retention_1</code> - did the player come back and play <strong>1 day</strong> after installing?</li>\n",
    "<li><code>retention_7</code> - did the player come back and play <strong>7 days</strong> after installing?</li>\n",
    "</ul>\n",
    "<p>When a player installed the game, he or she was randomly assigned to either <code>gate_30</code> or <code>gate_40</code>. As a sanity check, let's see if there are roughly the same number of players in each AB group. </p>"
   ]
  },
  {
   "cell_type": "code",
   "execution_count": 28,
   "metadata": {
    "dc": {
     "key": "10"
    },
    "tags": [
     "sample_code"
    ]
   },
   "outputs": [
    {
     "name": "stdout",
     "output_type": "stream",
     "text": [
      "         userid  sum_gamerounds  retention_1  retention_7\n",
      "version                                                  \n",
      "gate_30   44700           44700        44700        44700\n",
      "gate_40   45489           45489        45489        45489\n"
     ]
    }
   ],
   "source": [
    "# Counting the number of players in each AB group.\n",
    "\n",
    "print(df.groupby(by='version').count())\n",
    "\n",
    "\n",
    "\n"
   ]
  },
  {
   "cell_type": "markdown",
   "metadata": {
    "dc": {
     "key": "17"
    },
    "deletable": false,
    "editable": false,
    "run_control": {
     "frozen": true
    },
    "tags": [
     "context"
    ]
   },
   "source": [
    "## 3. The distribution of game rounds\n",
    "<p><img src=\"https://s3.amazonaws.com/assets.datacamp.com/production/project_184/img/mr_waffles_smiling.png\" style=\"width:200px; float:left\"> </p>\n",
    "<p>It looks like there is roughly the same number of players in each group, nice!</p>\n",
    "<p>The focus of this analysis will be on how the gate placement affects player retention, but just for fun: Let's plot the distribution of the number of game rounds players played during their first week playing the game.</p>"
   ]
  },
  {
   "cell_type": "code",
   "execution_count": 30,
   "metadata": {
    "dc": {
     "key": "17"
    },
    "tags": [
     "sample_code"
    ]
   },
   "outputs": [
    {
     "data": {
      "text/plain": [
       "Text(0,0.5,'userid')"
      ]
     },
     "execution_count": 30,
     "metadata": {},
     "output_type": "execute_result"
    },
    {
     "data": {
      "image/png": "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\n",
      "text/plain": [
       "<matplotlib.figure.Figure at 0x7fad506dba58>"
      ]
     },
     "metadata": {},
     "output_type": "display_data"
    }
   ],
   "source": [
    "# This command makes plots appear in the notebook\n",
    "%matplotlib inline\n",
    "\n",
    "# Counting the number of players for each number of gamerounds \n",
    "plot_df = df.groupby (by= 'sum_gamerounds')['userid'].count()\n",
    "\n",
    "# Plotting the distribution of players that played 0 to 100 game rounds\n",
    "ax = plot_df.head(100).plot()\n",
    "ax.set_xlabel('sum_gamerounds')\n",
    "ax.set_ylabel('userid')\n"
   ]
  },
  {
   "cell_type": "markdown",
   "metadata": {
    "dc": {
     "key": "25"
    },
    "deletable": false,
    "editable": false,
    "run_control": {
     "frozen": true
    },
    "tags": [
     "context"
    ]
   },
   "source": [
    "## 4. Overall 1-day retention\n",
    "<p>In the plot above we can see that some players install the game but then never play it (0 game rounds), some players just play a couple of game rounds in their first week, and some get really hooked!</p>\n",
    "<p>What we want is for players to like the game and to get hooked. A common metric in the video gaming industry for how fun and engaging a game is <em>1-day retention</em>: The percentage of players that comes back and plays the game <em>one day</em> after they have installed it.  The higher 1-day retention is, the easier it is to retain players and build a large player base. </p>\n",
    "<p>As a first step, let's look at what 1-day retention is overall.</p>"
   ]
  },
  {
   "cell_type": "code",
   "execution_count": 32,
   "metadata": {
    "dc": {
     "key": "25"
    },
    "tags": [
     "sample_code"
    ]
   },
   "outputs": [
    {
     "data": {
      "text/plain": [
       "0.4452095044850259"
      ]
     },
     "execution_count": 32,
     "metadata": {},
     "output_type": "execute_result"
    }
   ],
   "source": [
    "# The % of users that came back the day after they installed\n",
    "\n",
    "df['retention_1'].sum()/df['retention_1'].count()"
   ]
  },
  {
   "cell_type": "markdown",
   "metadata": {
    "dc": {
     "key": "32"
    },
    "deletable": false,
    "editable": false,
    "run_control": {
     "frozen": true
    },
    "tags": [
     "context"
    ]
   },
   "source": [
    "## 5. 1-day retention by AB-group\n",
    "<p><img src=\"https://s3.amazonaws.com/assets.datacamp.com/production/project_184/img/belle_cookie.png\" style=\"width:200px; float:right\"> </p>\n",
    "<p>So, a little less than half of the players come back one day after installing the game. Now that we have a benchmark, let's look at how 1-day retention differs between the two AB-groups.</p>"
   ]
  },
  {
   "cell_type": "code",
   "execution_count": 34,
   "metadata": {
    "dc": {
     "key": "32"
    },
    "tags": [
     "sample_code"
    ]
   },
   "outputs": [
    {
     "data": {
      "text/plain": [
       "version\n",
       "gate_30    0.448188\n",
       "gate_40    0.442283\n",
       "Name: retention_1, dtype: float64"
      ]
     },
     "execution_count": 34,
     "metadata": {},
     "output_type": "execute_result"
    }
   ],
   "source": [
    "# Calculating 1-day retention for each AB-group\n",
    "\n",
    "df.groupby(by='version')['retention_1'].mean()"
   ]
  },
  {
   "cell_type": "markdown",
   "metadata": {
    "dc": {
     "key": "39"
    },
    "deletable": false,
    "editable": false,
    "run_control": {
     "frozen": true
    },
    "tags": [
     "context"
    ]
   },
   "source": [
    "## 6. Should we be confident in the difference?\n",
    "<p>It appears that there was a slight decrease in 1-day retention when the gate was moved to level 40 (44.2%) compared to the control when it was at level 30 (44.8%). It's a small change, but even small changes in retention can have a large impact. But while we are certain of the difference in the data, how certain should we be that a gate at level 40 will be worse in the future?</p>\n",
    "<p>There are a couple of ways we can get at the certainty of these retention numbers. Here we will use bootstrapping: We will repeatedly re-sample our dataset (with replacement) and calculate 1-day retention for those samples. The variation in 1-day retention will give us an indication of how uncertain the retention numbers are.</p>"
   ]
  },
  {
   "cell_type": "code",
   "execution_count": 36,
   "metadata": {
    "dc": {
     "key": "39"
    },
    "tags": [
     "sample_code"
    ]
   },
   "outputs": [
    {
     "data": {
      "text/plain": [
       "<matplotlib.axes._subplots.AxesSubplot at 0x7fad527bcba8>"
      ]
     },
     "execution_count": 36,
     "metadata": {},
     "output_type": "execute_result"
    },
    {
     "data": {
      "image/png": "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\n",
      "text/plain": [
       "<matplotlib.figure.Figure at 0x7fad527bc7f0>"
      ]
     },
     "metadata": {},
     "output_type": "display_data"
    }
   ],
   "source": [
    "# Creating a list with bootstrapped means for each AB-group\n",
    "boot_1d = []\n",
    "for i in range(500):\n",
    "    boot_mean = df.sample(frac=1, replace=True).groupby('version')['retention_1'].mean()\n",
    "    boot_1d.append(boot_mean)\n",
    "    \n",
    "# Transforming the list to a DataFrame\n",
    "boot_1d = pd.DataFrame(boot_1d)\n",
    "    \n",
    "# A Kernel Density Estimate plot of the bootstrap distributions\n",
    "boot_1d.plot.kde()"
   ]
  },
  {
   "cell_type": "markdown",
   "metadata": {
    "dc": {
     "key": "47"
    },
    "deletable": false,
    "editable": false,
    "run_control": {
     "frozen": true
    },
    "tags": [
     "context"
    ]
   },
   "source": [
    "## 7. Zooming in on the difference\n",
    "<p>These two distributions above represent the bootstrap uncertainty over what the underlying 1-day retention could be for the two AB-groups. Just eyeballing this plot, we can see that there seems to be some evidence of a difference, albeit small. Let's zoom in on the difference in 1-day retention</p>\n",
    "<p>(<em>Note that in this notebook we have limited the number of bootstrap replication to 500 to keep the calculations quick. In \"production\" we would likely increase this to a much larger number, say, 10 000.</em>)</p>"
   ]
  },
  {
   "cell_type": "code",
   "execution_count": 38,
   "metadata": {
    "dc": {
     "key": "47"
    },
    "tags": [
     "sample_code"
    ]
   },
   "outputs": [
    {
     "data": {
      "image/png": "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\n",
      "text/plain": [
       "<matplotlib.figure.Figure at 0x7fad5282ac88>"
      ]
     },
     "metadata": {},
     "output_type": "display_data"
    }
   ],
   "source": [
    "# Adding a column with the % difference between the two AB-groups\n",
    "boot_1d['diff'] = ((boot_1d['gate_30'] - boot_1d['gate_40']) / boot_1d['gate_40'] *100)\n",
    "\n",
    "# Ploting the bootstrap % difference\n",
    "ax = boot_1d['diff'].plot.kde()\n"
   ]
  },
  {
   "cell_type": "markdown",
   "metadata": {
    "dc": {
     "key": "54"
    },
    "deletable": false,
    "editable": false,
    "run_control": {
     "frozen": true
    },
    "tags": [
     "context"
    ]
   },
   "source": [
    "## 8. The probability of a difference\n",
    "<p><img src=\"https://s3.amazonaws.com/assets.datacamp.com/production/project_184/img/ziggy_smiling.png\" style=\"width:200px; float:left\"> </p>\n",
    "<p>From this chart, we can see that the most likely % difference is around 1% - 2%, and that most of the distribution is above 0%, in favor of a gate at level 30. But what is the <em>probability</em> that the difference is above 0%? Let's calculate that as well.</p>"
   ]
  },
  {
   "cell_type": "code",
   "execution_count": 40,
   "metadata": {
    "dc": {
     "key": "54"
    },
    "tags": [
     "sample_code"
    ]
   },
   "outputs": [],
   "source": [
    "# Calculating the probability that 1-day retention is greater when the gate is at level 30\n",
    "prob = (boot_1d['diff'] > 0).sum() / len(boot_1d['diff'])\n",
    "\n",
    "\n",
    "# Pretty printing the probability\n",
    "\n"
   ]
  },
  {
   "cell_type": "markdown",
   "metadata": {
    "dc": {
     "key": "61"
    },
    "deletable": false,
    "editable": false,
    "run_control": {
     "frozen": true
    },
    "tags": [
     "context"
    ]
   },
   "source": [
    "## 9. 7-day retention by AB-group\n",
    "<p>The bootstrap analysis tells us that there is a high probability that 1-day retention is better when the gate is at level 30. However, since players have only been playing the game for one day, it is likely that most players haven't reached level 30 yet. That is, many players won't have been affected by the gate, even if it's as early as level 30. </p>\n",
    "<p>But after having played for a week, more players should have reached level 40, and therefore it makes sense to also look at 7-day retention. That is: What percentage of the people that installed the game also showed up a week later to play the game again.</p>\n",
    "<p>Let's start by calculating 7-day retention for the two AB-groups.</p>"
   ]
  },
  {
   "cell_type": "code",
   "execution_count": 42,
   "metadata": {
    "dc": {
     "key": "61"
    },
    "tags": [
     "sample_code"
    ]
   },
   "outputs": [
    {
     "name": "stdout",
     "output_type": "stream",
     "text": [
      "version\n",
      "gate_30    0.190201\n",
      "gate_40    0.182000\n",
      "Name: retention_7, dtype: float64\n"
     ]
    }
   ],
   "source": [
    "# Calculating 7-day retention for both AB-groups\n",
    "print(df.groupby(by='version')['retention_7'].mean())"
   ]
  },
  {
   "cell_type": "markdown",
   "metadata": {
    "dc": {
     "key": "68"
    },
    "deletable": false,
    "editable": false,
    "run_control": {
     "frozen": true
    },
    "tags": [
     "context"
    ]
   },
   "source": [
    "## 10. Bootstrapping the difference again\n",
    "<p>Like with 1-day retention, we see that 7-day retention is slightly lower (18.2%) when the gate is at level 40 than when the gate is at level 30 (19.0%). This difference is also larger than for 1-day retention, presumably because more players have had time to hit the first gate. We also see that the <em>overall</em> 7-day retention is lower than the <em>overall</em> 1-day retention; fewer people play a game a week after installing than a day after installing.</p>\n",
    "<p>But as before, let's use bootstrap analysis to figure out how certain we should be of the difference between the AB-groups.</p>"
   ]
  },
  {
   "cell_type": "code",
   "execution_count": 44,
   "metadata": {
    "dc": {
     "key": "68"
    },
    "tags": [
     "sample_code"
    ]
   },
   "outputs": [
    {
     "data": {
      "image/png": "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\n",
      "text/plain": [
       "<matplotlib.figure.Figure at 0x7fad3d79ea58>"
      ]
     },
     "metadata": {},
     "output_type": "display_data"
    }
   ],
   "source": [
    "# Creating a list with bootstrapped means for each AB-group\n",
    "boot_7d = []\n",
    "for i in range(500):\n",
    "    boot_mean = df.sample(frac=1, replace=True).groupby('version')['retention_7'].mean()\n",
    "    boot_7d.append(boot_mean)\n",
    "    \n",
    "# Transforming the list to a DataFrame\n",
    "boot_7d = pd.DataFrame(boot_7d)\n",
    "\n",
    "# Adding a column with the % difference between the two AB-groups\n",
    "boot_7d['diff'] = ((boot_7d['gate_30'] - boot_7d['gate_40']) / boot_7d['gate_40'] *100)\n",
    "\n",
    "# Ploting the bootstrap % difference\n",
    "ax = boot_7d['diff'].plot.kde()\n",
    "ax.set_xlabel(\"% difference in means\")\n",
    "\n",
    "# Calculating the probability that 7-day retention is greater when the gate is at level 30\n",
    "prob = (boot_7d['diff'] > 0).sum() / len(boot_7d['diff'])\n",
    "\n",
    "# Pretty printing the probability\n"
   ]
  },
  {
   "cell_type": "markdown",
   "metadata": {
    "dc": {
     "key": "75"
    },
    "deletable": false,
    "editable": false,
    "run_control": {
     "frozen": true
    },
    "tags": [
     "context"
    ]
   },
   "source": [
    "## 11.  The conclusion\n",
    "<p>The bootstrap result tells us that there is strong evidence that 7-day retention is higher when the gate is at level 30 than when it is at level 40. The conclusion is: If we want to keep retention high — both 1-day and 7-day retention — we should <strong>not</strong> move the gate from level 30 to level 40. There are, of course, other metrics we could look at, like the number of game rounds played or how much in-game purchases are made by the two AB-groups. But retention <em>is</em> one of the most important metrics. If we don't retain our player base, it doesn't matter how much money they spend in-game.</p>\n",
    "<p><img src=\"https://s3.amazonaws.com/assets.datacamp.com/production/project_184/img/cookie_yellow.png\" style=\"width:100px; float:center\"> </p>\n",
    "<p>So, why is retention higher when the gate is positioned earlier? One could expect the opposite: The later the obstacle, the longer people are going to engage with the game. But this is not what the data tells us. The theory of <em>hedonic adaptation</em> can give one explanation for this. In short, hedonic adaptation is the tendency for people to get less and less enjoyment out of a fun activity over time if that activity is undertaken continuously. By forcing players to take a break when they reach a gate, their enjoyment of the game is prolonged. But when the gate is moved to level 40, fewer players make it far enough, and they are more likely to quit the game because they simply got bored of it. </p>"
   ]
  },
  {
   "cell_type": "code",
   "execution_count": 46,
   "metadata": {
    "collapsed": true,
    "dc": {
     "key": "75"
    },
    "tags": [
     "sample_code"
    ]
   },
   "outputs": [],
   "source": [
    "# So, given the data and the bootstrap analysis\n",
    "# Should we move the gate from level 30 to level 40 ?\n",
    "move_to_level_40 = False"
   ]
  }
 ],
 "metadata": {
  "kernelspec": {
   "display_name": "Python 3",
   "language": "python",
   "name": "python3"
  },
  "language_info": {
   "codemirror_mode": {
    "name": "ipython",
    "version": 3
   },
   "file_extension": ".py",
   "mimetype": "text/x-python",
   "name": "python",
   "nbconvert_exporter": "python",
   "pygments_lexer": "ipython3",
   "version": "3.6.5"
  }
 },
 "nbformat": 4,
 "nbformat_minor": 2
}
